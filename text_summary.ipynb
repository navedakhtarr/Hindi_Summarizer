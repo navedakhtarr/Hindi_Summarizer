{
 "cells": [
  {
   "cell_type": "code",
   "execution_count": 1,
   "id": "54f02bce",
   "metadata": {},
   "outputs": [],
   "source": [
    "from heapq import nlargest\n",
    "from spacy.lang.en.stop_words import STOP_WORDS\n",
    "from string import punctuation\n",
    "from googletrans import Translator\n",
    "import spacy"
   ]
  },
  {
   "cell_type": "code",
   "execution_count": 2,
   "id": "d75d7d17",
   "metadata": {},
   "outputs": [
    {
     "name": "stdout",
     "output_type": "stream",
     "text": [
      "सैमसंग उपयोगकर्ताओं को नए अनुभव और डेवलपर्स के लिए नए अवसर प्रदान करने के लिए स्मार्टवॉच के भविष्य के लिए अपने दृष्टिकोण का प्रदर्शन करेगा, सैमसंग ने एक स्मार्टवॉच, एक स्मार्टफोन, एक टैबलेट और एक लैपटॉप के सिल्हूट के साथ घटना के लिए एक छवि में कहा। दक्षिण कोरियाई टेक दिग्गज ने हाल ही में सैमसंग गैलेक्सी MWC वर्चुअल इवेंट के लिए समय और तारीख निर्धारित करके इसे आधिकारिक बना दिया।\n",
      "Length of original text:  135\n",
      "Length of summary :  71\n"
     ]
    }
   ],
   "source": [
    "rawdocs = \"\"\"सैमसंग ने हाल ही में अपने इन-पर्सन MWC 2021 इवेंट को रद्द कर दिया है, इसके बजाय, एक ऑनलाइन-ओनली फॉर्मेट के लिए प्रतिबद्ध है। दक्षिण कोरियाई टेक दिग्गज ने हाल ही में सैमसंग गैलेक्सी MWC वर्चुअल इवेंट के लिए समय और तारीख निर्धारित करते हुए इसे आधिकारिक बना दिया। यह कार्यक्रम 28 जून को 17:15 यूटीसी (22:45 IST) पर आयोजित किया जाएगा और YouTube पर इसका सीधा प्रसारण किया जाएगा। अपनी रिलीज में, सैमसंग का कहना है कि वह अपने \"हमेशा विस्तारित गैलेक्सी डिवाइस पारिस्थितिकी तंत्र\" पेश करेगा, सैमसंग स्मार्ट डिवाइस सुरक्षा के बढ़ते महत्व के संबंध में नवीनतम तकनीकों और नवाचार प्रयासों को पेश करने की भी योजना बना रहा है। सैमसंग उपयोगकर्ताओं के लिए नए अनुभव और डेवलपर्स के लिए नए अवसर प्रदान करने के लिए स्मार्टवॉच के भविष्य के लिए अपने दृष्टिकोण को भी प्रदर्शित करेगा, सैमसंग ने एक स्मार्टवॉच, एक स्मार्टफोन, एक टैबलेट और एक लैपटॉप के सिल्हूट के साथ घटना के लिए एक छवि भी साझा की।\"\"\"\n",
    "\n",
    "\n",
    "#def summarizer(rawdocs):\n",
    "translater = Translator()\n",
    "stopwords = list(STOP_WORDS)\n",
    "#print(stopwords)\n",
    "nlp = spacy.load('en_core_web_sm')\n",
    "rawdocs = translater.translate(rawdocs, dest=\"en\")\n",
    "rawdocs = rawdocs.text\n",
    "doc = nlp(rawdocs)\n",
    "#print(doc)\n",
    "tokens = [token.text for token in doc]\n",
    "#print(tokens)\n",
    "word_freq = {}\n",
    "for word in doc:\n",
    "    if word.text.lower() not in stopwords and word.text.lower() not in punctuation:\n",
    "        if word.text not in word_freq.keys():\n",
    "            word_freq[word.text] = 1\n",
    "        else:\n",
    "            word_freq[word.text] += 1\n",
    "\n",
    "#print(word_freq)\n",
    "\n",
    "max_freq = max(word_freq.values())\n",
    "#print(max_freq)\n",
    "\n",
    "for word in word_freq.keys():\n",
    "    word_freq[word] = word_freq[word]/max_freq\n",
    "\n",
    "#print(word_freq)\n",
    "\n",
    "sent_tokens = [sent for sent in doc.sents]\n",
    "#print(sent_tokens)\n",
    "\n",
    "sent_scores = {}\n",
    "for sent in sent_tokens:\n",
    "    for word in sent:\n",
    "        if word.text in word_freq.keys():\n",
    "            if sent not in sent_scores.keys():\n",
    "                sent_scores[sent] = word_freq[word.text]\n",
    "            else:\n",
    "                sent_scores[sent] += word_freq[word.text]\n",
    "\n",
    "#print(sent_scores)\n",
    "\n",
    "select_len = int(len(sent_tokens) * 0.3)\n",
    "# print(select_len)\n",
    "summary = nlargest(select_len, sent_scores, key = sent_scores.get)\n",
    "#print(summary)\n",
    "\n",
    "final_summary = [word.text for word in summary]\n",
    "summary = ' '.join(final_summary)\n",
    "summary = translater.translate(summary, dest=\"hi\").text\n",
    "print(summary)\n",
    "print(\"Length of original text: \",len(rawdocs.split(' ')))\n",
    "print(\"Length of summary : \",len(summary.split(' ')))\n",
    "\n",
    "#return summary, doc, len(rawdocs.split(' ')), len(summary.split(' '))"
   ]
  },
  {
   "cell_type": "code",
   "execution_count": null,
   "id": "629726c2",
   "metadata": {},
   "outputs": [],
   "source": [
    "    "
   ]
  }
 ],
 "metadata": {
  "kernelspec": {
   "display_name": "Python 3",
   "language": "python",
   "name": "python3"
  },
  "language_info": {
   "codemirror_mode": {
    "name": "ipython",
    "version": 3
   },
   "file_extension": ".py",
   "mimetype": "text/x-python",
   "name": "python",
   "nbconvert_exporter": "python",
   "pygments_lexer": "ipython3",
   "version": "3.6.13"
  }
 },
 "nbformat": 4,
 "nbformat_minor": 5
}
